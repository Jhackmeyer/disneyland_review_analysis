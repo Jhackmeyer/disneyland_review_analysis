{
 "cells": [
  {
   "cell_type": "code",
   "execution_count": 2,
   "id": "e7b5ccff",
   "metadata": {},
   "outputs": [],
   "source": [
    "## Import dependencies\n",
    "import numpy as np\n",
    "import pandas as pd\n",
    "from pathlib import Path\n",
    "from getpass import getpass\n",
    "from sqlalchemy import create_engine \n",
    "import psycopg2\n",
    "from sklearn.preprocessing import LabelEncoder"
   ]
  },
  {
   "cell_type": "code",
   "execution_count": 142,
   "id": "4f344b74",
   "metadata": {},
   "outputs": [],
   "source": [
    "## Load the data\n",
    "file_path = Path(\"Resources/DisneylandReviews.csv\")\n",
    "disney_raw_df = pd.read_csv(file_path)"
   ]
  },
  {
   "cell_type": "code",
   "execution_count": 143,
   "id": "39d1a9a3",
   "metadata": {
    "scrolled": true
   },
   "outputs": [
    {
     "data": {
      "text/html": [
       "<div>\n",
       "<style scoped>\n",
       "    .dataframe tbody tr th:only-of-type {\n",
       "        vertical-align: middle;\n",
       "    }\n",
       "\n",
       "    .dataframe tbody tr th {\n",
       "        vertical-align: top;\n",
       "    }\n",
       "\n",
       "    .dataframe thead th {\n",
       "        text-align: right;\n",
       "    }\n",
       "</style>\n",
       "<table border=\"1\" class=\"dataframe\">\n",
       "  <thead>\n",
       "    <tr style=\"text-align: right;\">\n",
       "      <th></th>\n",
       "      <th>Review_ID</th>\n",
       "      <th>Rating</th>\n",
       "      <th>Year_Month</th>\n",
       "      <th>Reviewer_Location</th>\n",
       "      <th>Review_Text</th>\n",
       "      <th>Branch</th>\n",
       "    </tr>\n",
       "  </thead>\n",
       "  <tbody>\n",
       "    <tr>\n",
       "      <th>0</th>\n",
       "      <td>670772142</td>\n",
       "      <td>4</td>\n",
       "      <td>2019-4</td>\n",
       "      <td>Australia</td>\n",
       "      <td>If you've ever been to Disneyland anywhere you...</td>\n",
       "      <td>Disneyland_HongKong</td>\n",
       "    </tr>\n",
       "    <tr>\n",
       "      <th>1</th>\n",
       "      <td>670682799</td>\n",
       "      <td>4</td>\n",
       "      <td>2019-5</td>\n",
       "      <td>Philippines</td>\n",
       "      <td>Its been a while since d last time we visit HK...</td>\n",
       "      <td>Disneyland_HongKong</td>\n",
       "    </tr>\n",
       "    <tr>\n",
       "      <th>2</th>\n",
       "      <td>670623270</td>\n",
       "      <td>4</td>\n",
       "      <td>2019-4</td>\n",
       "      <td>United Arab Emirates</td>\n",
       "      <td>Thanks God it wasn   t too hot or too humid wh...</td>\n",
       "      <td>Disneyland_HongKong</td>\n",
       "    </tr>\n",
       "    <tr>\n",
       "      <th>3</th>\n",
       "      <td>670607911</td>\n",
       "      <td>4</td>\n",
       "      <td>2019-4</td>\n",
       "      <td>Australia</td>\n",
       "      <td>HK Disneyland is a great compact park. Unfortu...</td>\n",
       "      <td>Disneyland_HongKong</td>\n",
       "    </tr>\n",
       "    <tr>\n",
       "      <th>4</th>\n",
       "      <td>670607296</td>\n",
       "      <td>4</td>\n",
       "      <td>2019-4</td>\n",
       "      <td>United Kingdom</td>\n",
       "      <td>the location is not in the city, took around 1...</td>\n",
       "      <td>Disneyland_HongKong</td>\n",
       "    </tr>\n",
       "    <tr>\n",
       "      <th>...</th>\n",
       "      <td>...</td>\n",
       "      <td>...</td>\n",
       "      <td>...</td>\n",
       "      <td>...</td>\n",
       "      <td>...</td>\n",
       "      <td>...</td>\n",
       "    </tr>\n",
       "    <tr>\n",
       "      <th>42651</th>\n",
       "      <td>1765031</td>\n",
       "      <td>5</td>\n",
       "      <td>missing</td>\n",
       "      <td>United Kingdom</td>\n",
       "      <td>i went to disneyland paris in july 03 and thou...</td>\n",
       "      <td>Disneyland_Paris</td>\n",
       "    </tr>\n",
       "    <tr>\n",
       "      <th>42652</th>\n",
       "      <td>1659553</td>\n",
       "      <td>5</td>\n",
       "      <td>missing</td>\n",
       "      <td>Canada</td>\n",
       "      <td>2 adults and 1 child of 11 visited Disneyland ...</td>\n",
       "      <td>Disneyland_Paris</td>\n",
       "    </tr>\n",
       "    <tr>\n",
       "      <th>42653</th>\n",
       "      <td>1645894</td>\n",
       "      <td>5</td>\n",
       "      <td>missing</td>\n",
       "      <td>South Africa</td>\n",
       "      <td>My eleven year old daughter and myself went to...</td>\n",
       "      <td>Disneyland_Paris</td>\n",
       "    </tr>\n",
       "    <tr>\n",
       "      <th>42654</th>\n",
       "      <td>1618637</td>\n",
       "      <td>4</td>\n",
       "      <td>missing</td>\n",
       "      <td>United States</td>\n",
       "      <td>This hotel, part of the Disneyland Paris compl...</td>\n",
       "      <td>Disneyland_Paris</td>\n",
       "    </tr>\n",
       "    <tr>\n",
       "      <th>42655</th>\n",
       "      <td>1536786</td>\n",
       "      <td>4</td>\n",
       "      <td>missing</td>\n",
       "      <td>United Kingdom</td>\n",
       "      <td>I went to the Disneyparis resort, in 1996, wit...</td>\n",
       "      <td>Disneyland_Paris</td>\n",
       "    </tr>\n",
       "  </tbody>\n",
       "</table>\n",
       "<p>42656 rows × 6 columns</p>\n",
       "</div>"
      ],
      "text/plain": [
       "       Review_ID  Rating Year_Month     Reviewer_Location  \\\n",
       "0      670772142       4     2019-4             Australia   \n",
       "1      670682799       4     2019-5           Philippines   \n",
       "2      670623270       4     2019-4  United Arab Emirates   \n",
       "3      670607911       4     2019-4             Australia   \n",
       "4      670607296       4     2019-4        United Kingdom   \n",
       "...          ...     ...        ...                   ...   \n",
       "42651    1765031       5    missing        United Kingdom   \n",
       "42652    1659553       5    missing                Canada   \n",
       "42653    1645894       5    missing          South Africa   \n",
       "42654    1618637       4    missing         United States   \n",
       "42655    1536786       4    missing        United Kingdom   \n",
       "\n",
       "                                             Review_Text               Branch  \n",
       "0      If you've ever been to Disneyland anywhere you...  Disneyland_HongKong  \n",
       "1      Its been a while since d last time we visit HK...  Disneyland_HongKong  \n",
       "2      Thanks God it wasn   t too hot or too humid wh...  Disneyland_HongKong  \n",
       "3      HK Disneyland is a great compact park. Unfortu...  Disneyland_HongKong  \n",
       "4      the location is not in the city, took around 1...  Disneyland_HongKong  \n",
       "...                                                  ...                  ...  \n",
       "42651  i went to disneyland paris in july 03 and thou...     Disneyland_Paris  \n",
       "42652  2 adults and 1 child of 11 visited Disneyland ...     Disneyland_Paris  \n",
       "42653  My eleven year old daughter and myself went to...     Disneyland_Paris  \n",
       "42654  This hotel, part of the Disneyland Paris compl...     Disneyland_Paris  \n",
       "42655  I went to the Disneyparis resort, in 1996, wit...     Disneyland_Paris  \n",
       "\n",
       "[42656 rows x 6 columns]"
      ]
     },
     "execution_count": 143,
     "metadata": {},
     "output_type": "execute_result"
    }
   ],
   "source": [
    "# Inspect data\n",
    "disney_raw_df"
   ]
  },
  {
   "cell_type": "code",
   "execution_count": 144,
   "id": "d9b7034d",
   "metadata": {},
   "outputs": [
    {
     "data": {
      "text/plain": [
       "Review_ID            42656\n",
       "Rating               42656\n",
       "Year_Month           42656\n",
       "Reviewer_Location    42656\n",
       "Review_Text          42656\n",
       "Branch               42656\n",
       "dtype: int64"
      ]
     },
     "execution_count": 144,
     "metadata": {},
     "output_type": "execute_result"
    }
   ],
   "source": [
    "# Inspect counts\n",
    "disney_raw_df.count()"
   ]
  },
  {
   "cell_type": "code",
   "execution_count": 145,
   "id": "f7c2f589",
   "metadata": {
    "scrolled": true
   },
   "outputs": [
    {
     "data": {
      "text/plain": [
       "Review_ID             int64\n",
       "Rating                int64\n",
       "Year_Month           object\n",
       "Reviewer_Location    object\n",
       "Review_Text          object\n",
       "Branch               object\n",
       "dtype: object"
      ]
     },
     "execution_count": 145,
     "metadata": {},
     "output_type": "execute_result"
    }
   ],
   "source": [
    "# Inspect data types\n",
    "disney_raw_df.dtypes"
   ]
  },
  {
   "cell_type": "code",
   "execution_count": 146,
   "id": "63ede162",
   "metadata": {
    "scrolled": true
   },
   "outputs": [
    {
     "data": {
      "text/plain": [
       "0         59\n",
       "1        171\n",
       "2        169\n",
       "3         91\n",
       "4         31\n",
       "        ... \n",
       "42651    173\n",
       "42652    191\n",
       "42653    109\n",
       "42654    112\n",
       "42655    179\n",
       "Name: Review_Text, Length: 42656, dtype: int64"
      ]
     },
     "execution_count": 146,
     "metadata": {},
     "output_type": "execute_result"
    }
   ],
   "source": [
    "# Check length of reviews\n",
    "disney_raw_df[\"Review_Text\"].astype('str').str.split().str.len()"
   ]
  },
  {
   "cell_type": "code",
   "execution_count": 147,
   "id": "43ee8e06",
   "metadata": {},
   "outputs": [
    {
     "data": {
      "text/plain": [
       "\"If you've ever been to Disneyland anywhere you'll find Disneyland Hong Kong very similar in the layout when you walk into main street! It has a very familiar feel. One of the rides  its a Small World  is absolutely fabulous and worth doing. The day we visited was fairly hot and relatively busy but the queues moved fairly well. \""
      ]
     },
     "execution_count": 147,
     "metadata": {},
     "output_type": "execute_result"
    }
   ],
   "source": [
    "# Check first entry to confirm results\n",
    "disney_raw_df[\"Review_Text\"].loc[0]"
   ]
  },
  {
   "cell_type": "code",
   "execution_count": 148,
   "id": "2da1bd0f",
   "metadata": {},
   "outputs": [
    {
     "data": {
      "text/plain": [
       "329"
      ]
     },
     "execution_count": 148,
     "metadata": {},
     "output_type": "execute_result"
    }
   ],
   "source": [
    "disney_raw_df[\"Review_Text\"].astype('str').str.len().loc[0]"
   ]
  },
  {
   "cell_type": "code",
   "execution_count": 149,
   "id": "9e806ad8",
   "metadata": {},
   "outputs": [],
   "source": [
    "# Add column for review lengths\n",
    "disney_raw_df[\"Review_Words\"] = disney_raw_df[\"Review_Text\"].astype('str').str.split().str.len()\n",
    "disney_raw_df[\"Review_Letters\"] = disney_raw_df[\"Review_Text\"].astype('str').str.len()"
   ]
  },
  {
   "cell_type": "code",
   "execution_count": 150,
   "id": "ebd04122",
   "metadata": {},
   "outputs": [
    {
     "data": {
      "text/html": [
       "<div>\n",
       "<style scoped>\n",
       "    .dataframe tbody tr th:only-of-type {\n",
       "        vertical-align: middle;\n",
       "    }\n",
       "\n",
       "    .dataframe tbody tr th {\n",
       "        vertical-align: top;\n",
       "    }\n",
       "\n",
       "    .dataframe thead th {\n",
       "        text-align: right;\n",
       "    }\n",
       "</style>\n",
       "<table border=\"1\" class=\"dataframe\">\n",
       "  <thead>\n",
       "    <tr style=\"text-align: right;\">\n",
       "      <th></th>\n",
       "      <th>Review_ID</th>\n",
       "      <th>Rating</th>\n",
       "      <th>Review_Words</th>\n",
       "      <th>Review_Letters</th>\n",
       "    </tr>\n",
       "  </thead>\n",
       "  <tbody>\n",
       "    <tr>\n",
       "      <th>count</th>\n",
       "      <td>4.265600e+04</td>\n",
       "      <td>42656.000000</td>\n",
       "      <td>42656.000000</td>\n",
       "      <td>42656.000000</td>\n",
       "    </tr>\n",
       "    <tr>\n",
       "      <th>mean</th>\n",
       "      <td>3.188553e+08</td>\n",
       "      <td>4.217695</td>\n",
       "      <td>129.703817</td>\n",
       "      <td>696.817540</td>\n",
       "    </tr>\n",
       "    <tr>\n",
       "      <th>std</th>\n",
       "      <td>1.657092e+08</td>\n",
       "      <td>1.063371</td>\n",
       "      <td>154.713032</td>\n",
       "      <td>831.396751</td>\n",
       "    </tr>\n",
       "    <tr>\n",
       "      <th>min</th>\n",
       "      <td>1.398724e+06</td>\n",
       "      <td>1.000000</td>\n",
       "      <td>3.000000</td>\n",
       "      <td>18.000000</td>\n",
       "    </tr>\n",
       "    <tr>\n",
       "      <th>25%</th>\n",
       "      <td>1.743274e+08</td>\n",
       "      <td>4.000000</td>\n",
       "      <td>45.000000</td>\n",
       "      <td>239.000000</td>\n",
       "    </tr>\n",
       "    <tr>\n",
       "      <th>50%</th>\n",
       "      <td>2.907583e+08</td>\n",
       "      <td>5.000000</td>\n",
       "      <td>81.000000</td>\n",
       "      <td>435.000000</td>\n",
       "    </tr>\n",
       "    <tr>\n",
       "      <th>75%</th>\n",
       "      <td>4.489579e+08</td>\n",
       "      <td>5.000000</td>\n",
       "      <td>156.000000</td>\n",
       "      <td>837.000000</td>\n",
       "    </tr>\n",
       "    <tr>\n",
       "      <th>max</th>\n",
       "      <td>6.708014e+08</td>\n",
       "      <td>5.000000</td>\n",
       "      <td>3963.000000</td>\n",
       "      <td>20756.000000</td>\n",
       "    </tr>\n",
       "  </tbody>\n",
       "</table>\n",
       "</div>"
      ],
      "text/plain": [
       "          Review_ID        Rating  Review_Words  Review_Letters\n",
       "count  4.265600e+04  42656.000000  42656.000000    42656.000000\n",
       "mean   3.188553e+08      4.217695    129.703817      696.817540\n",
       "std    1.657092e+08      1.063371    154.713032      831.396751\n",
       "min    1.398724e+06      1.000000      3.000000       18.000000\n",
       "25%    1.743274e+08      4.000000     45.000000      239.000000\n",
       "50%    2.907583e+08      5.000000     81.000000      435.000000\n",
       "75%    4.489579e+08      5.000000    156.000000      837.000000\n",
       "max    6.708014e+08      5.000000   3963.000000    20756.000000"
      ]
     },
     "execution_count": 150,
     "metadata": {},
     "output_type": "execute_result"
    }
   ],
   "source": [
    "disney_raw_df.describe()"
   ]
  },
  {
   "cell_type": "code",
   "execution_count": 151,
   "id": "4ef555ca",
   "metadata": {},
   "outputs": [],
   "source": [
    "# Remove data with missing time values\n",
    "disney_raw_df = disney_raw_df[disney_raw_df[\"Year_Month\"]!='missing']"
   ]
  },
  {
   "cell_type": "code",
   "execution_count": 152,
   "id": "0f2c0bec",
   "metadata": {
    "scrolled": true
   },
   "outputs": [
    {
     "name": "stderr",
     "output_type": "stream",
     "text": [
      "C:\\Anaconda\\envs\\mlenv\\lib\\site-packages\\pandas\\core\\frame.py:3191: SettingWithCopyWarning: \n",
      "A value is trying to be set on a copy of a slice from a DataFrame.\n",
      "Try using .loc[row_indexer,col_indexer] = value instead\n",
      "\n",
      "See the caveats in the documentation: https://pandas.pydata.org/pandas-docs/stable/user_guide/indexing.html#returning-a-view-versus-a-copy\n",
      "  self[k1] = value[k2]\n"
     ]
    }
   ],
   "source": [
    "# Split year/month column into two columns\n",
    "disney_raw_df[[\"Year\", \"Month\"]] = disney_raw_df[\"Year_Month\"].str.split(pat=\"-\", expand = True)"
   ]
  },
  {
   "cell_type": "code",
   "execution_count": 153,
   "id": "bcfd06f0",
   "metadata": {
    "scrolled": false
   },
   "outputs": [
    {
     "data": {
      "text/plain": [
       "2015-8     786\n",
       "2015-7     759\n",
       "2015-12    701\n",
       "2015-6     692\n",
       "2015-5     678\n",
       "          ... \n",
       "2010-8       7\n",
       "2010-5       4\n",
       "2010-3       2\n",
       "2019-5       2\n",
       "2010-4       1\n",
       "Name: Year_Month, Length: 111, dtype: int64"
      ]
     },
     "execution_count": 153,
     "metadata": {},
     "output_type": "execute_result"
    }
   ],
   "source": [
    "disney_raw_df[\"Year_Month\"].value_counts()"
   ]
  },
  {
   "cell_type": "code",
   "execution_count": 154,
   "id": "3ac722b0",
   "metadata": {},
   "outputs": [
    {
     "data": {
      "text/plain": [
       "Review_ID            0\n",
       "Rating               0\n",
       "Year_Month           0\n",
       "Reviewer_Location    0\n",
       "Review_Text          0\n",
       "Branch               0\n",
       "Review_Words         0\n",
       "Review_Letters       0\n",
       "Year                 0\n",
       "Month                0\n",
       "dtype: int64"
      ]
     },
     "execution_count": 154,
     "metadata": {},
     "output_type": "execute_result"
    }
   ],
   "source": [
    "# Check for nulls\n",
    "disney_raw_df.isna().sum()"
   ]
  },
  {
   "cell_type": "code",
   "execution_count": 155,
   "id": "7f251261",
   "metadata": {
    "scrolled": true
   },
   "outputs": [
    {
     "data": {
      "text/plain": [
       "['Afghanistan',\n",
       " 'Albania',\n",
       " 'Algeria',\n",
       " 'Andorra',\n",
       " 'Antigua and Barbuda',\n",
       " 'Argentina',\n",
       " 'Armenia',\n",
       " 'Aruba',\n",
       " 'Australia',\n",
       " 'Austria',\n",
       " 'Azerbaijan',\n",
       " 'Bahrain',\n",
       " 'Bangladesh',\n",
       " 'Barbados',\n",
       " 'Belgium',\n",
       " 'Bolivia',\n",
       " 'Bosnia and Herzegovina',\n",
       " 'Botswana',\n",
       " 'Brazil',\n",
       " 'Brunei',\n",
       " 'Bulgaria',\n",
       " 'Cambodia',\n",
       " 'Canada',\n",
       " 'Caribbean Netherlands',\n",
       " 'Cayman Islands',\n",
       " 'Chile',\n",
       " 'China',\n",
       " 'Colombia',\n",
       " 'Cook Islands',\n",
       " 'Costa Rica',\n",
       " 'Croatia',\n",
       " 'Cuba',\n",
       " 'Cura�ao',\n",
       " 'Cyprus',\n",
       " 'Czechia',\n",
       " \"C�te d'Ivoire\",\n",
       " 'Democratic Republic of the Congo',\n",
       " 'Denmark',\n",
       " 'Dominican Republic',\n",
       " 'Ecuador',\n",
       " 'Egypt',\n",
       " 'El Salvador',\n",
       " 'Estonia',\n",
       " 'Ethiopia',\n",
       " 'Falkland Islands (Islas Malvinas)',\n",
       " 'Fiji',\n",
       " 'Finland',\n",
       " 'France',\n",
       " 'French Polynesia',\n",
       " 'Georgia',\n",
       " 'Germany',\n",
       " 'Ghana',\n",
       " 'Gibraltar',\n",
       " 'Greece',\n",
       " 'Grenada',\n",
       " 'Guam',\n",
       " 'Guatemala',\n",
       " 'Guernsey',\n",
       " 'Haiti',\n",
       " 'Honduras',\n",
       " 'Hong Kong',\n",
       " 'Hungary',\n",
       " 'Iceland',\n",
       " 'India',\n",
       " 'Indonesia',\n",
       " 'Iran',\n",
       " 'Iraq',\n",
       " 'Ireland',\n",
       " 'Isle of Man',\n",
       " 'Israel',\n",
       " 'Italy',\n",
       " 'Jamaica',\n",
       " 'Japan',\n",
       " 'Jersey',\n",
       " 'Jordan',\n",
       " 'Kazakhstan',\n",
       " 'Kenya',\n",
       " 'Kuwait',\n",
       " 'Laos',\n",
       " 'Latvia',\n",
       " 'Lebanon',\n",
       " 'Libya',\n",
       " 'Lithuania',\n",
       " 'Luxembourg',\n",
       " 'Macau',\n",
       " 'Madagascar',\n",
       " 'Malawi',\n",
       " 'Malaysia',\n",
       " 'Maldives',\n",
       " 'Mali',\n",
       " 'Malta',\n",
       " 'Mauritius',\n",
       " 'Mexico',\n",
       " 'Moldova',\n",
       " 'Monaco',\n",
       " 'Mongolia',\n",
       " 'Montenegro',\n",
       " 'Morocco',\n",
       " 'Mozambique',\n",
       " 'Myanmar (Burma)',\n",
       " 'Namibia',\n",
       " 'Nepal',\n",
       " 'Netherlands',\n",
       " 'New Zealand',\n",
       " 'Nicaragua',\n",
       " 'Nigeria',\n",
       " 'North Macedonia',\n",
       " 'Northern Mariana Islands',\n",
       " 'Norway',\n",
       " 'Oman',\n",
       " 'Pakistan',\n",
       " 'Panama',\n",
       " 'Papua New Guinea',\n",
       " 'Peru',\n",
       " 'Philippines',\n",
       " 'Poland',\n",
       " 'Portugal',\n",
       " 'Puerto Rico',\n",
       " 'Qatar',\n",
       " 'Romania',\n",
       " 'Russia',\n",
       " 'Rwanda',\n",
       " 'Saudi Arabia',\n",
       " 'Senegal',\n",
       " 'Serbia',\n",
       " 'Seychelles',\n",
       " 'Singapore',\n",
       " 'Slovakia',\n",
       " 'Slovenia',\n",
       " 'Solomon Islands',\n",
       " 'South Africa',\n",
       " 'South Korea',\n",
       " 'South Sudan',\n",
       " 'Spain',\n",
       " 'Sri Lanka',\n",
       " 'Sudan',\n",
       " 'Suriname',\n",
       " 'Sweden',\n",
       " 'Switzerland',\n",
       " 'Taiwan',\n",
       " 'Tanzania',\n",
       " 'Thailand',\n",
       " 'The Bahamas',\n",
       " 'Timor-Leste',\n",
       " 'Trinidad and Tobago',\n",
       " 'Tunisia',\n",
       " 'Turkey',\n",
       " 'Turks and Caicos Islands',\n",
       " 'U.S. Virgin Islands',\n",
       " 'Uganda',\n",
       " 'Ukraine',\n",
       " 'United Arab Emirates',\n",
       " 'United Kingdom',\n",
       " 'United States',\n",
       " 'Uruguay',\n",
       " 'Uzbekistan',\n",
       " 'Vanuatu',\n",
       " 'Venezuela',\n",
       " 'Vietnam',\n",
       " 'Zambia',\n",
       " 'Zimbabwe',\n",
       " '�land Islands']"
      ]
     },
     "execution_count": 155,
     "metadata": {},
     "output_type": "execute_result"
    }
   ],
   "source": [
    "# Check unique locations\n",
    "locations = disney_raw_df[\"Reviewer_Location\"].unique()\n",
    "sorted(locations)"
   ]
  },
  {
   "cell_type": "code",
   "execution_count": 156,
   "id": "23c30085",
   "metadata": {},
   "outputs": [
    {
     "name": "stderr",
     "output_type": "stream",
     "text": [
      "C:\\Anaconda\\envs\\mlenv\\lib\\site-packages\\ipykernel_launcher.py:2: SettingWithCopyWarning: \n",
      "A value is trying to be set on a copy of a slice from a DataFrame.\n",
      "Try using .loc[row_indexer,col_indexer] = value instead\n",
      "\n",
      "See the caveats in the documentation: https://pandas.pydata.org/pandas-docs/stable/user_guide/indexing.html#returning-a-view-versus-a-copy\n",
      "  \n"
     ]
    }
   ],
   "source": [
    "# Replace locations with missing characters\n",
    "disney_raw_df[\"Reviewer_Location\"] = disney_raw_df[\"Reviewer_Location\"].replace([\"Cura�ao\", \"C�te d'Ivoire\", \"�land Islands\"],[\"Curacao\", \"Cote d'Ivoire\", \"Aland Islands\"])"
   ]
  },
  {
   "cell_type": "code",
   "execution_count": 157,
   "id": "4fe630b9",
   "metadata": {
    "scrolled": true
   },
   "outputs": [
    {
     "data": {
      "text/plain": [
       "array(['Disneyland_HongKong', 'Disneyland_California', 'Disneyland_Paris'],\n",
       "      dtype=object)"
      ]
     },
     "execution_count": 157,
     "metadata": {},
     "output_type": "execute_result"
    }
   ],
   "source": [
    "# Check which disney parks were visited\n",
    "disney_raw_df[\"Branch\"].unique()"
   ]
  },
  {
   "cell_type": "code",
   "execution_count": 158,
   "id": "57275b36",
   "metadata": {},
   "outputs": [],
   "source": [
    "# Come up with function for determining if reviewer was a local or tourist (in broad terms)\n",
    "def tourist(row):\n",
    "    if (row[\"Branch\"]==\"Disneyland_HongKong\") & (row[\"Reviewer_Location\"]==\"Hong Kong\"):\n",
    "        return 0\n",
    "    elif (row[\"Branch\"]==\"Disneyland_California\") & (row[\"Reviewer_Location\"]==\"United States\"):\n",
    "        return 0 \n",
    "    elif (row[\"Branch\"]==\"Disneyland_Paris\") & (row[\"Reviewer_Location\"]==\"France\"):\n",
    "        return 0\n",
    "    else:\n",
    "        return 1"
   ]
  },
  {
   "cell_type": "code",
   "execution_count": 159,
   "id": "0bdc1bdb",
   "metadata": {},
   "outputs": [
    {
     "name": "stderr",
     "output_type": "stream",
     "text": [
      "C:\\Anaconda\\envs\\mlenv\\lib\\site-packages\\ipykernel_launcher.py:2: SettingWithCopyWarning: \n",
      "A value is trying to be set on a copy of a slice from a DataFrame.\n",
      "Try using .loc[row_indexer,col_indexer] = value instead\n",
      "\n",
      "See the caveats in the documentation: https://pandas.pydata.org/pandas-docs/stable/user_guide/indexing.html#returning-a-view-versus-a-copy\n",
      "  \n"
     ]
    }
   ],
   "source": [
    "# Create tourism column: 1 is a reviewer from another country, 0 is a reviewer from the same country\n",
    "disney_raw_df[\"Tourist\"] = disney_raw_df.apply(tourist, axis=1)"
   ]
  },
  {
   "cell_type": "code",
   "execution_count": 160,
   "id": "7165faeb",
   "metadata": {
    "scrolled": false
   },
   "outputs": [
    {
     "data": {
      "text/html": [
       "<div>\n",
       "<style scoped>\n",
       "    .dataframe tbody tr th:only-of-type {\n",
       "        vertical-align: middle;\n",
       "    }\n",
       "\n",
       "    .dataframe tbody tr th {\n",
       "        vertical-align: top;\n",
       "    }\n",
       "\n",
       "    .dataframe thead th {\n",
       "        text-align: right;\n",
       "    }\n",
       "</style>\n",
       "<table border=\"1\" class=\"dataframe\">\n",
       "  <thead>\n",
       "    <tr style=\"text-align: right;\">\n",
       "      <th></th>\n",
       "      <th>Review_ID</th>\n",
       "      <th>Rating</th>\n",
       "      <th>Year_Month</th>\n",
       "      <th>Reviewer_Location</th>\n",
       "      <th>Review_Text</th>\n",
       "      <th>Branch</th>\n",
       "      <th>Review_Words</th>\n",
       "      <th>Review_Letters</th>\n",
       "      <th>Year</th>\n",
       "      <th>Month</th>\n",
       "      <th>Tourist</th>\n",
       "    </tr>\n",
       "  </thead>\n",
       "  <tbody>\n",
       "    <tr>\n",
       "      <th>19</th>\n",
       "      <td>670033848</td>\n",
       "      <td>5</td>\n",
       "      <td>2018-11</td>\n",
       "      <td>Hong Kong</td>\n",
       "      <td>There is nothing more to say except that you b...</td>\n",
       "      <td>Disneyland_HongKong</td>\n",
       "      <td>44</td>\n",
       "      <td>237</td>\n",
       "      <td>2018</td>\n",
       "      <td>11</td>\n",
       "      <td>0</td>\n",
       "    </tr>\n",
       "    <tr>\n",
       "      <th>25</th>\n",
       "      <td>669548161</td>\n",
       "      <td>3</td>\n",
       "      <td>2019-4</td>\n",
       "      <td>Hong Kong</td>\n",
       "      <td>Disneylands the world over are generic apart f...</td>\n",
       "      <td>Disneyland_HongKong</td>\n",
       "      <td>40</td>\n",
       "      <td>229</td>\n",
       "      <td>2019</td>\n",
       "      <td>4</td>\n",
       "      <td>0</td>\n",
       "    </tr>\n",
       "    <tr>\n",
       "      <th>39</th>\n",
       "      <td>668111738</td>\n",
       "      <td>5</td>\n",
       "      <td>2018-6</td>\n",
       "      <td>Hong Kong</td>\n",
       "      <td>HKDL got different event for different period....</td>\n",
       "      <td>Disneyland_HongKong</td>\n",
       "      <td>78</td>\n",
       "      <td>463</td>\n",
       "      <td>2018</td>\n",
       "      <td>6</td>\n",
       "      <td>0</td>\n",
       "    </tr>\n",
       "    <tr>\n",
       "      <th>67</th>\n",
       "      <td>666075052</td>\n",
       "      <td>4</td>\n",
       "      <td>2019-4</td>\n",
       "      <td>Hong Kong</td>\n",
       "      <td>The hotel is clean and tidy . The environment ...</td>\n",
       "      <td>Disneyland_HongKong</td>\n",
       "      <td>66</td>\n",
       "      <td>343</td>\n",
       "      <td>2019</td>\n",
       "      <td>4</td>\n",
       "      <td>0</td>\n",
       "    </tr>\n",
       "    <tr>\n",
       "      <th>82</th>\n",
       "      <td>664602208</td>\n",
       "      <td>5</td>\n",
       "      <td>2019-3</td>\n",
       "      <td>Hong Kong</td>\n",
       "      <td>My wife and I brought 2 daughers in law to Hon...</td>\n",
       "      <td>Disneyland_HongKong</td>\n",
       "      <td>91</td>\n",
       "      <td>468</td>\n",
       "      <td>2019</td>\n",
       "      <td>3</td>\n",
       "      <td>0</td>\n",
       "    </tr>\n",
       "    <tr>\n",
       "      <th>...</th>\n",
       "      <td>...</td>\n",
       "      <td>...</td>\n",
       "      <td>...</td>\n",
       "      <td>...</td>\n",
       "      <td>...</td>\n",
       "      <td>...</td>\n",
       "      <td>...</td>\n",
       "      <td>...</td>\n",
       "      <td>...</td>\n",
       "      <td>...</td>\n",
       "      <td>...</td>\n",
       "    </tr>\n",
       "    <tr>\n",
       "      <th>41895</th>\n",
       "      <td>116968337</td>\n",
       "      <td>3</td>\n",
       "      <td>2011-8</td>\n",
       "      <td>France</td>\n",
       "      <td>While we left with huge smiles on our faces, b...</td>\n",
       "      <td>Disneyland_Paris</td>\n",
       "      <td>230</td>\n",
       "      <td>1323</td>\n",
       "      <td>2011</td>\n",
       "      <td>8</td>\n",
       "      <td>0</td>\n",
       "    </tr>\n",
       "    <tr>\n",
       "      <th>41918</th>\n",
       "      <td>116616689</td>\n",
       "      <td>4</td>\n",
       "      <td>2011-7</td>\n",
       "      <td>France</td>\n",
       "      <td>I was born inParis in the early 1970s and rais...</td>\n",
       "      <td>Disneyland_Paris</td>\n",
       "      <td>642</td>\n",
       "      <td>3564</td>\n",
       "      <td>2011</td>\n",
       "      <td>7</td>\n",
       "      <td>0</td>\n",
       "    </tr>\n",
       "    <tr>\n",
       "      <th>41969</th>\n",
       "      <td>115605447</td>\n",
       "      <td>5</td>\n",
       "      <td>2011-7</td>\n",
       "      <td>France</td>\n",
       "      <td>Now I'm a massive cynic about these types of t...</td>\n",
       "      <td>Disneyland_Paris</td>\n",
       "      <td>593</td>\n",
       "      <td>3302</td>\n",
       "      <td>2011</td>\n",
       "      <td>7</td>\n",
       "      <td>0</td>\n",
       "    </tr>\n",
       "    <tr>\n",
       "      <th>42003</th>\n",
       "      <td>113183230</td>\n",
       "      <td>4</td>\n",
       "      <td>2011-6</td>\n",
       "      <td>France</td>\n",
       "      <td>We live in the area and have annual passes so ...</td>\n",
       "      <td>Disneyland_Paris</td>\n",
       "      <td>295</td>\n",
       "      <td>1452</td>\n",
       "      <td>2011</td>\n",
       "      <td>6</td>\n",
       "      <td>0</td>\n",
       "    </tr>\n",
       "    <tr>\n",
       "      <th>42011</th>\n",
       "      <td>111653014</td>\n",
       "      <td>1</td>\n",
       "      <td>2011-6</td>\n",
       "      <td>France</td>\n",
       "      <td>We are visiting Paris from the US. We decided ...</td>\n",
       "      <td>Disneyland_Paris</td>\n",
       "      <td>178</td>\n",
       "      <td>867</td>\n",
       "      <td>2011</td>\n",
       "      <td>6</td>\n",
       "      <td>0</td>\n",
       "    </tr>\n",
       "  </tbody>\n",
       "</table>\n",
       "<p>12146 rows × 11 columns</p>\n",
       "</div>"
      ],
      "text/plain": [
       "       Review_ID  Rating Year_Month Reviewer_Location  \\\n",
       "19     670033848       5    2018-11         Hong Kong   \n",
       "25     669548161       3     2019-4         Hong Kong   \n",
       "39     668111738       5     2018-6         Hong Kong   \n",
       "67     666075052       4     2019-4         Hong Kong   \n",
       "82     664602208       5     2019-3         Hong Kong   \n",
       "...          ...     ...        ...               ...   \n",
       "41895  116968337       3     2011-8            France   \n",
       "41918  116616689       4     2011-7            France   \n",
       "41969  115605447       5     2011-7            France   \n",
       "42003  113183230       4     2011-6            France   \n",
       "42011  111653014       1     2011-6            France   \n",
       "\n",
       "                                             Review_Text               Branch  \\\n",
       "19     There is nothing more to say except that you b...  Disneyland_HongKong   \n",
       "25     Disneylands the world over are generic apart f...  Disneyland_HongKong   \n",
       "39     HKDL got different event for different period....  Disneyland_HongKong   \n",
       "67     The hotel is clean and tidy . The environment ...  Disneyland_HongKong   \n",
       "82     My wife and I brought 2 daughers in law to Hon...  Disneyland_HongKong   \n",
       "...                                                  ...                  ...   \n",
       "41895  While we left with huge smiles on our faces, b...     Disneyland_Paris   \n",
       "41918  I was born inParis in the early 1970s and rais...     Disneyland_Paris   \n",
       "41969  Now I'm a massive cynic about these types of t...     Disneyland_Paris   \n",
       "42003  We live in the area and have annual passes so ...     Disneyland_Paris   \n",
       "42011  We are visiting Paris from the US. We decided ...     Disneyland_Paris   \n",
       "\n",
       "       Review_Words  Review_Letters  Year Month  Tourist  \n",
       "19               44             237  2018    11        0  \n",
       "25               40             229  2019     4        0  \n",
       "39               78             463  2018     6        0  \n",
       "67               66             343  2019     4        0  \n",
       "82               91             468  2019     3        0  \n",
       "...             ...             ...   ...   ...      ...  \n",
       "41895           230            1323  2011     8        0  \n",
       "41918           642            3564  2011     7        0  \n",
       "41969           593            3302  2011     7        0  \n",
       "42003           295            1452  2011     6        0  \n",
       "42011           178             867  2011     6        0  \n",
       "\n",
       "[12146 rows x 11 columns]"
      ]
     },
     "execution_count": 160,
     "metadata": {},
     "output_type": "execute_result"
    }
   ],
   "source": [
    "# Check results\n",
    "disney_raw_df[disney_raw_df[\"Tourist\"]==0]"
   ]
  },
  {
   "cell_type": "code",
   "execution_count": 161,
   "id": "d4426295",
   "metadata": {
    "scrolled": false
   },
   "outputs": [
    {
     "data": {
      "text/plain": [
       "1    27897\n",
       "0    12146\n",
       "Name: Tourist, dtype: int64"
      ]
     },
     "execution_count": 161,
     "metadata": {},
     "output_type": "execute_result"
    }
   ],
   "source": [
    "# Check counts of tourist vs local\n",
    "disney_raw_df[\"Tourist\"].value_counts()"
   ]
  },
  {
   "cell_type": "code",
   "execution_count": 162,
   "id": "675ccfff",
   "metadata": {
    "scrolled": true
   },
   "outputs": [
    {
     "name": "stderr",
     "output_type": "stream",
     "text": [
      "C:\\Anaconda\\envs\\mlenv\\lib\\site-packages\\ipykernel_launcher.py:2: SettingWithCopyWarning: \n",
      "A value is trying to be set on a copy of a slice from a DataFrame.\n",
      "Try using .loc[row_indexer,col_indexer] = value instead\n",
      "\n",
      "See the caveats in the documentation: https://pandas.pydata.org/pandas-docs/stable/user_guide/indexing.html#returning-a-view-versus-a-copy\n",
      "  \n",
      "C:\\Anaconda\\envs\\mlenv\\lib\\site-packages\\ipykernel_launcher.py:3: SettingWithCopyWarning: \n",
      "A value is trying to be set on a copy of a slice from a DataFrame.\n",
      "Try using .loc[row_indexer,col_indexer] = value instead\n",
      "\n",
      "See the caveats in the documentation: https://pandas.pydata.org/pandas-docs/stable/user_guide/indexing.html#returning-a-view-versus-a-copy\n",
      "  This is separate from the ipykernel package so we can avoid doing imports until\n",
      "C:\\Anaconda\\envs\\mlenv\\lib\\site-packages\\ipykernel_launcher.py:4: SettingWithCopyWarning: \n",
      "A value is trying to be set on a copy of a slice from a DataFrame.\n",
      "Try using .loc[row_indexer,col_indexer] = value instead\n",
      "\n",
      "See the caveats in the documentation: https://pandas.pydata.org/pandas-docs/stable/user_guide/indexing.html#returning-a-view-versus-a-copy\n",
      "  after removing the cwd from sys.path.\n",
      "C:\\Anaconda\\envs\\mlenv\\lib\\site-packages\\ipykernel_launcher.py:5: SettingWithCopyWarning: \n",
      "A value is trying to be set on a copy of a slice from a DataFrame.\n",
      "Try using .loc[row_indexer,col_indexer] = value instead\n",
      "\n",
      "See the caveats in the documentation: https://pandas.pydata.org/pandas-docs/stable/user_guide/indexing.html#returning-a-view-versus-a-copy\n",
      "  \"\"\"\n"
     ]
    }
   ],
   "source": [
    "# Change data types\n",
    "disney_raw_df[\"Tourist\"] = disney_raw_df[\"Tourist\"].astype(int)\n",
    "disney_raw_df[\"Month\"] = disney_raw_df[\"Month\"].astype(int)\n",
    "disney_raw_df[\"Year\"] = disney_raw_df[\"Year\"].astype(int)\n",
    "disney_raw_df[\"Year_Month\"] = pd.to_datetime(disney_raw_df[\"Year_Month\"])"
   ]
  },
  {
   "cell_type": "code",
   "execution_count": 163,
   "id": "971c81d7",
   "metadata": {},
   "outputs": [
    {
     "data": {
      "text/plain": [
       "Review_ID                     int64\n",
       "Rating                        int64\n",
       "Year_Month           datetime64[ns]\n",
       "Reviewer_Location            object\n",
       "Review_Text                  object\n",
       "Branch                       object\n",
       "Review_Words                  int64\n",
       "Review_Letters                int64\n",
       "Year                          int32\n",
       "Month                         int32\n",
       "Tourist                       int32\n",
       "dtype: object"
      ]
     },
     "execution_count": 163,
     "metadata": {},
     "output_type": "execute_result"
    }
   ],
   "source": [
    "disney_raw_df.dtypes"
   ]
  },
  {
   "cell_type": "code",
   "execution_count": 164,
   "id": "7977709b",
   "metadata": {},
   "outputs": [
    {
     "data": {
      "text/plain": [
       "[2010, 2011, 2012, 2013, 2014, 2015, 2016, 2017, 2018, 2019]"
      ]
     },
     "execution_count": 164,
     "metadata": {},
     "output_type": "execute_result"
    }
   ],
   "source": [
    "# Look at range of years\n",
    "sorted(disney_raw_df[\"Year\"].unique())"
   ]
  },
  {
   "cell_type": "code",
   "execution_count": 165,
   "id": "c90c0def",
   "metadata": {},
   "outputs": [
    {
     "data": {
      "text/plain": [
       "20"
      ]
     },
     "execution_count": 165,
     "metadata": {},
     "output_type": "execute_result"
    }
   ],
   "source": [
    "# Look for duplicate rows\n",
    "disney_raw_df[\"Review_ID\"].duplicated().sum()"
   ]
  },
  {
   "cell_type": "code",
   "execution_count": 166,
   "id": "ae012229",
   "metadata": {},
   "outputs": [],
   "source": [
    "# Drop duplicate rows\n",
    "disney_raw_df = disney_raw_df.drop_duplicates(subset=\"Review_ID\", keep=\"first\")"
   ]
  },
  {
   "cell_type": "code",
   "execution_count": 167,
   "id": "b1c1e797",
   "metadata": {},
   "outputs": [
    {
     "data": {
      "text/plain": [
       "United States     13513\n",
       "United Kingdom     9115\n",
       "Australia          4409\n",
       "Canada             2115\n",
       "India              1469\n",
       "                  ...  \n",
       "Sudan                 1\n",
       "Grenada               1\n",
       "Cayman Islands        1\n",
       "Iraq                  1\n",
       "South Sudan           1\n",
       "Name: Reviewer_Location, Length: 162, dtype: int64"
      ]
     },
     "execution_count": 167,
     "metadata": {},
     "output_type": "execute_result"
    }
   ],
   "source": [
    "# We may have to bin locations; check number/distribution of unique entries\n",
    "disney_raw_df[\"Reviewer_Location\"].value_counts()"
   ]
  },
  {
   "cell_type": "code",
   "execution_count": 169,
   "id": "6fb4b4d7",
   "metadata": {},
   "outputs": [
    {
     "data": {
      "text/plain": [
       "<AxesSubplot:ylabel='Density'>"
      ]
     },
     "execution_count": 169,
     "metadata": {},
     "output_type": "execute_result"
    },
    {
     "data": {
      "image/png": "[encoded data removed]",
      "text/plain": [
       "<Figure size 432x288 with 1 Axes>"
      ]
     },
     "metadata": {
      "needs_background": "light"
     },
     "output_type": "display_data"
    }
   ],
   "source": [
    "disney_raw_df.Reviewer_Location.value_counts().plot.density()"
   ]
  },
  {
   "cell_type": "code",
   "execution_count": 171,
   "id": "a6e3ceea",
   "metadata": {},
   "outputs": [
    {
     "data": {
      "text/plain": [
       "United States     13513\n",
       "United Kingdom     9115\n",
       "Other              5110\n",
       "Australia          4409\n",
       "Canada             2115\n",
       "India              1469\n",
       "Philippines        1024\n",
       "Singapore           968\n",
       "New Zealand         714\n",
       "Malaysia            560\n",
       "Hong Kong           515\n",
       "Indonesia           511\n",
       "Name: Reviewer_Location, dtype: int64"
      ]
     },
     "execution_count": 171,
     "metadata": {},
     "output_type": "execute_result"
    }
   ],
   "source": [
    "location_counts = disney_raw_df.Reviewer_Location.value_counts()\n",
    "# Determine which values to replace if counts are less than ..?\n",
    "replace_location = list(location_counts[location_counts < 500].index)\n",
    "\n",
    "# Replace in dataframe\n",
    "for place in replace_location:\n",
    "    disney_raw_df.Reviewer_Location = disney_raw_df.Reviewer_Location.replace(place,\"Other\")\n",
    "    \n",
    "# Check to make sure binning was successful\n",
    "disney_raw_df.Reviewer_Location.value_counts()"
   ]
  },
  {
   "cell_type": "code",
   "execution_count": 172,
   "id": "ee5889db",
   "metadata": {},
   "outputs": [
    {
     "data": {
      "text/plain": [
       "<AxesSubplot:ylabel='Density'>"
      ]
     },
     "execution_count": 172,
     "metadata": {},
     "output_type": "execute_result"
    },
    {
     "data": {
      "image/png": "[encoded data removed]",
      "text/plain": [
       "<Figure size 432x288 with 1 Axes>"
      ]
     },
     "metadata": {
      "needs_background": "light"
     },
     "output_type": "display_data"
    }
   ],
   "source": [
    "disney_raw_df.Reviewer_Location.value_counts().plot.density()"
   ]
  },
  {
   "cell_type": "code",
   "execution_count": 173,
   "id": "f2b514df",
   "metadata": {},
   "outputs": [],
   "source": [
    "# Create instance of labelencoder\n",
    "labelencoder = LabelEncoder()\n",
    "# Encode categorical data\n",
    "disney_raw_df[\"Branch_Encoded\"] = labelencoder.fit_transform(disney_raw_df[\"Branch\"])\n",
    "disney_raw_df[\"Location_Encoded\"] = labelencoder.fit_transform(disney_raw_df[\"Reviewer_Location\"])"
   ]
  },
  {
   "cell_type": "code",
   "execution_count": 174,
   "id": "34fff206",
   "metadata": {
    "scrolled": false
   },
   "outputs": [
    {
     "data": {
      "text/plain": [
       "Branch_Encoded  Branch               \n",
       "0               Disneyland_California    18196\n",
       "1               Disneyland_HongKong       9134\n",
       "2               Disneyland_Paris         12693\n",
       "dtype: int64"
      ]
     },
     "execution_count": 174,
     "metadata": {},
     "output_type": "execute_result"
    }
   ],
   "source": [
    "# View encoded branches\n",
    "disney_raw_df.groupby([\"Branch_Encoded\", \"Branch\"]).size()"
   ]
  },
  {
   "cell_type": "code",
   "execution_count": 183,
   "id": "5e47f4bf",
   "metadata": {},
   "outputs": [
    {
     "data": {
      "text/plain": [
       "Tourist  Branch               \n",
       "0        Disneyland_California    11470\n",
       "         Disneyland_HongKong        491\n",
       "         Disneyland_Paris           181\n",
       "1        Disneyland_California     6726\n",
       "         Disneyland_HongKong       8643\n",
       "         Disneyland_Paris         12512\n",
       "dtype: int64"
      ]
     },
     "execution_count": 183,
     "metadata": {},
     "output_type": "execute_result"
    }
   ],
   "source": [
    "disney_raw_df.groupby([\"Tourist\", \"Branch\"]).size()"
   ]
  },
  {
   "cell_type": "code",
   "execution_count": 175,
   "id": "961de8db",
   "metadata": {
    "scrolled": false
   },
   "outputs": [
    {
     "data": {
      "text/plain": [
       "Location_Encoded  Reviewer_Location\n",
       "0                 Australia             4409\n",
       "1                 Canada                2115\n",
       "2                 Hong Kong              515\n",
       "3                 India                 1469\n",
       "4                 Indonesia              511\n",
       "5                 Malaysia               560\n",
       "6                 New Zealand            714\n",
       "7                 Other                 5110\n",
       "8                 Philippines           1024\n",
       "9                 Singapore              968\n",
       "10                United Kingdom        9115\n",
       "11                United States        13513\n",
       "dtype: int64"
      ]
     },
     "execution_count": 175,
     "metadata": {},
     "output_type": "execute_result"
    }
   ],
   "source": [
    "# View encoded locations\n",
    "disney_raw_df.groupby([\"Location_Encoded\", \"Reviewer_Location\"]).size()"
   ]
  },
  {
   "cell_type": "code",
   "execution_count": 176,
   "id": "bda9e37c",
   "metadata": {},
   "outputs": [],
   "source": [
    "disney_clean_df = disney_raw_df"
   ]
  },
  {
   "cell_type": "code",
   "execution_count": 177,
   "id": "74048501",
   "metadata": {},
   "outputs": [],
   "source": [
    "# Reset index\n",
    "disney_clean_df.reset_index(inplace=True, drop=True)"
   ]
  },
  {
   "cell_type": "code",
   "execution_count": 178,
   "id": "fd63786f",
   "metadata": {},
   "outputs": [
    {
     "name": "stdout",
     "output_type": "stream",
     "text": [
      "Enter database password········\n"
     ]
    }
   ],
   "source": [
    "## Now we upload our dataframe to SQL\n",
    "# Build the connection string\n",
    "protocol = 'postgresql'\n",
    "user = 'postgres'\n",
    "location = 'localhost'\n",
    "port = '5432'\n",
    "db = 'disney_db'\n",
    "password = getpass('Enter database password')"
   ]
  },
  {
   "cell_type": "code",
   "execution_count": 179,
   "id": "0864ee77",
   "metadata": {},
   "outputs": [],
   "source": [
    "# Store string as variable\n",
    "db_string = f'{protocol}://{user}:{password}@{location}:{port}/{db}'"
   ]
  },
  {
   "cell_type": "code",
   "execution_count": 180,
   "id": "f1b1e236",
   "metadata": {
    "scrolled": true
   },
   "outputs": [],
   "source": [
    "# Create database engine\n",
    "engine = create_engine(db_string)"
   ]
  },
  {
   "cell_type": "code",
   "execution_count": 181,
   "id": "4b676b30",
   "metadata": {
    "scrolled": true
   },
   "outputs": [],
   "source": [
    "# Send to database\n",
    "disney_clean_df.to_sql(name='disneyland_reviews', con=engine, if_exists='replace')"
   ]
  },
  {
   "cell_type": "code",
   "execution_count": 182,
   "id": "0b8ebcc0",
   "metadata": {},
   "outputs": [],
   "source": [
    "# Export to csv\n",
    "disney_clean_df.to_csv(\"Resources/disney_clean.csv\", index=False)"
   ]
  },
  {
   "cell_type": "code",
   "execution_count": null,
   "id": "1a8a156e",
   "metadata": {},
   "outputs": [],
   "source": []
  }
 ],
 "metadata": {
  "kernelspec": {
   "display_name": "mlenv",
   "language": "python",
   "name": "mlenv"
  },
  "language_info": {
   "codemirror_mode": {
    "name": "ipython",
    "version": 3
   },
   "file_extension": ".py",
   "mimetype": "text/x-python",
   "name": "python",
   "nbconvert_exporter": "python",
   "pygments_lexer": "ipython3",
   "version": "3.7.10"
  }
 },
 "nbformat": 4,
 "nbformat_minor": 5
}
