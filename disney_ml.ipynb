{
 "cells": [
  {
   "cell_type": "code",
   "execution_count": 1,
   "id": "033b651a",
   "metadata": {},
   "outputs": [],
   "source": [
    "## Import dependencies\n",
    "\n",
    "import numpy as np\n",
    "import pandas as pd\n",
    "from pathlib import Path\n",
    "from collections import Counter\n",
    "from sklearn.model_selection import train_test_split\n",
    "from imblearn.ensemble import BalancedRandomForestClassifier\n",
    "from sklearn.metrics import balanced_accuracy_score\n",
    "from imblearn.metrics import classification_report_imbalanced\n",
    "from sklearn.linear_model import LogisticRegression\n"
   ]
  },
  {
   "cell_type": "code",
   "execution_count": 2,
   "id": "f2e54ce4",
   "metadata": {
    "scrolled": true
   },
   "outputs": [
    {
     "data": {
      "text/html": [
       "<div>\n",
       "<style scoped>\n",
       "    .dataframe tbody tr th:only-of-type {\n",
       "        vertical-align: middle;\n",
       "    }\n",
       "\n",
       "    .dataframe tbody tr th {\n",
       "        vertical-align: top;\n",
       "    }\n",
       "\n",
       "    .dataframe thead th {\n",
       "        text-align: right;\n",
       "    }\n",
       "</style>\n",
       "<table border=\"1\" class=\"dataframe\">\n",
       "  <thead>\n",
       "    <tr style=\"text-align: right;\">\n",
       "      <th></th>\n",
       "      <th>Review_ID</th>\n",
       "      <th>Rating</th>\n",
       "      <th>Year_Month</th>\n",
       "      <th>Reviewer_Location</th>\n",
       "      <th>Review_Text</th>\n",
       "      <th>Branch</th>\n",
       "      <th>Review_Words</th>\n",
       "      <th>Review_Letters</th>\n",
       "      <th>Year</th>\n",
       "      <th>Month</th>\n",
       "      <th>Tourist</th>\n",
       "      <th>Branch_Encoded</th>\n",
       "      <th>Location_Encoded</th>\n",
       "    </tr>\n",
       "  </thead>\n",
       "  <tbody>\n",
       "    <tr>\n",
       "      <th>0</th>\n",
       "      <td>670772142</td>\n",
       "      <td>4</td>\n",
       "      <td>2019-04-01</td>\n",
       "      <td>Australia</td>\n",
       "      <td>If you've ever been to Disneyland anywhere you...</td>\n",
       "      <td>Disneyland_HongKong</td>\n",
       "      <td>59</td>\n",
       "      <td>329</td>\n",
       "      <td>2019</td>\n",
       "      <td>4</td>\n",
       "      <td>1</td>\n",
       "      <td>1</td>\n",
       "      <td>0</td>\n",
       "    </tr>\n",
       "    <tr>\n",
       "      <th>1</th>\n",
       "      <td>670682799</td>\n",
       "      <td>4</td>\n",
       "      <td>2019-05-01</td>\n",
       "      <td>Philippines</td>\n",
       "      <td>Its been a while since d last time we visit HK...</td>\n",
       "      <td>Disneyland_HongKong</td>\n",
       "      <td>171</td>\n",
       "      <td>970</td>\n",
       "      <td>2019</td>\n",
       "      <td>5</td>\n",
       "      <td>1</td>\n",
       "      <td>1</td>\n",
       "      <td>8</td>\n",
       "    </tr>\n",
       "    <tr>\n",
       "      <th>2</th>\n",
       "      <td>670623270</td>\n",
       "      <td>4</td>\n",
       "      <td>2019-04-01</td>\n",
       "      <td>Other</td>\n",
       "      <td>Thanks God it wasn   t too hot or too humid wh...</td>\n",
       "      <td>Disneyland_HongKong</td>\n",
       "      <td>169</td>\n",
       "      <td>938</td>\n",
       "      <td>2019</td>\n",
       "      <td>4</td>\n",
       "      <td>1</td>\n",
       "      <td>1</td>\n",
       "      <td>7</td>\n",
       "    </tr>\n",
       "    <tr>\n",
       "      <th>3</th>\n",
       "      <td>670607911</td>\n",
       "      <td>4</td>\n",
       "      <td>2019-04-01</td>\n",
       "      <td>Australia</td>\n",
       "      <td>HK Disneyland is a great compact park. Unfortu...</td>\n",
       "      <td>Disneyland_HongKong</td>\n",
       "      <td>91</td>\n",
       "      <td>485</td>\n",
       "      <td>2019</td>\n",
       "      <td>4</td>\n",
       "      <td>1</td>\n",
       "      <td>1</td>\n",
       "      <td>0</td>\n",
       "    </tr>\n",
       "    <tr>\n",
       "      <th>4</th>\n",
       "      <td>670607296</td>\n",
       "      <td>4</td>\n",
       "      <td>2019-04-01</td>\n",
       "      <td>United Kingdom</td>\n",
       "      <td>the location is not in the city, took around 1...</td>\n",
       "      <td>Disneyland_HongKong</td>\n",
       "      <td>31</td>\n",
       "      <td>163</td>\n",
       "      <td>2019</td>\n",
       "      <td>4</td>\n",
       "      <td>1</td>\n",
       "      <td>1</td>\n",
       "      <td>10</td>\n",
       "    </tr>\n",
       "    <tr>\n",
       "      <th>...</th>\n",
       "      <td>...</td>\n",
       "      <td>...</td>\n",
       "      <td>...</td>\n",
       "      <td>...</td>\n",
       "      <td>...</td>\n",
       "      <td>...</td>\n",
       "      <td>...</td>\n",
       "      <td>...</td>\n",
       "      <td>...</td>\n",
       "      <td>...</td>\n",
       "      <td>...</td>\n",
       "      <td>...</td>\n",
       "      <td>...</td>\n",
       "    </tr>\n",
       "    <tr>\n",
       "      <th>40018</th>\n",
       "      <td>92198076</td>\n",
       "      <td>4</td>\n",
       "      <td>2011-01-01</td>\n",
       "      <td>United Kingdom</td>\n",
       "      <td>Although our pick up was prompt the taxi drive...</td>\n",
       "      <td>Disneyland_Paris</td>\n",
       "      <td>316</td>\n",
       "      <td>1574</td>\n",
       "      <td>2011</td>\n",
       "      <td>1</td>\n",
       "      <td>1</td>\n",
       "      <td>2</td>\n",
       "      <td>10</td>\n",
       "    </tr>\n",
       "    <tr>\n",
       "      <th>40019</th>\n",
       "      <td>92061774</td>\n",
       "      <td>4</td>\n",
       "      <td>2011-01-01</td>\n",
       "      <td>Other</td>\n",
       "      <td>Just returned from a 4 days family trip to Dis...</td>\n",
       "      <td>Disneyland_Paris</td>\n",
       "      <td>647</td>\n",
       "      <td>3593</td>\n",
       "      <td>2011</td>\n",
       "      <td>1</td>\n",
       "      <td>1</td>\n",
       "      <td>2</td>\n",
       "      <td>7</td>\n",
       "    </tr>\n",
       "    <tr>\n",
       "      <th>40020</th>\n",
       "      <td>91995748</td>\n",
       "      <td>1</td>\n",
       "      <td>2010-12-01</td>\n",
       "      <td>United Kingdom</td>\n",
       "      <td>We spent the 20 Dec 2010 in the Disney park an...</td>\n",
       "      <td>Disneyland_Paris</td>\n",
       "      <td>440</td>\n",
       "      <td>2537</td>\n",
       "      <td>2010</td>\n",
       "      <td>12</td>\n",
       "      <td>1</td>\n",
       "      <td>2</td>\n",
       "      <td>10</td>\n",
       "    </tr>\n",
       "    <tr>\n",
       "      <th>40021</th>\n",
       "      <td>91984642</td>\n",
       "      <td>2</td>\n",
       "      <td>2010-12-01</td>\n",
       "      <td>United Kingdom</td>\n",
       "      <td>Well I was really looking forward to this trip...</td>\n",
       "      <td>Disneyland_Paris</td>\n",
       "      <td>314</td>\n",
       "      <td>1758</td>\n",
       "      <td>2010</td>\n",
       "      <td>12</td>\n",
       "      <td>1</td>\n",
       "      <td>2</td>\n",
       "      <td>10</td>\n",
       "    </tr>\n",
       "    <tr>\n",
       "      <th>40022</th>\n",
       "      <td>91827418</td>\n",
       "      <td>5</td>\n",
       "      <td>2010-09-01</td>\n",
       "      <td>United Kingdom</td>\n",
       "      <td>If staying at a Disney hotel make good use of ...</td>\n",
       "      <td>Disneyland_Paris</td>\n",
       "      <td>104</td>\n",
       "      <td>512</td>\n",
       "      <td>2010</td>\n",
       "      <td>9</td>\n",
       "      <td>1</td>\n",
       "      <td>2</td>\n",
       "      <td>10</td>\n",
       "    </tr>\n",
       "  </tbody>\n",
       "</table>\n",
       "<p>40023 rows × 13 columns</p>\n",
       "</div>"
      ],
      "text/plain": [
       "       Review_ID  Rating  Year_Month Reviewer_Location  \\\n",
       "0      670772142       4  2019-04-01         Australia   \n",
       "1      670682799       4  2019-05-01       Philippines   \n",
       "2      670623270       4  2019-04-01             Other   \n",
       "3      670607911       4  2019-04-01         Australia   \n",
       "4      670607296       4  2019-04-01    United Kingdom   \n",
       "...          ...     ...         ...               ...   \n",
       "40018   92198076       4  2011-01-01    United Kingdom   \n",
       "40019   92061774       4  2011-01-01             Other   \n",
       "40020   91995748       1  2010-12-01    United Kingdom   \n",
       "40021   91984642       2  2010-12-01    United Kingdom   \n",
       "40022   91827418       5  2010-09-01    United Kingdom   \n",
       "\n",
       "                                             Review_Text               Branch  \\\n",
       "0      If you've ever been to Disneyland anywhere you...  Disneyland_HongKong   \n",
       "1      Its been a while since d last time we visit HK...  Disneyland_HongKong   \n",
       "2      Thanks God it wasn   t too hot or too humid wh...  Disneyland_HongKong   \n",
       "3      HK Disneyland is a great compact park. Unfortu...  Disneyland_HongKong   \n",
       "4      the location is not in the city, took around 1...  Disneyland_HongKong   \n",
       "...                                                  ...                  ...   \n",
       "40018  Although our pick up was prompt the taxi drive...     Disneyland_Paris   \n",
       "40019  Just returned from a 4 days family trip to Dis...     Disneyland_Paris   \n",
       "40020  We spent the 20 Dec 2010 in the Disney park an...     Disneyland_Paris   \n",
       "40021  Well I was really looking forward to this trip...     Disneyland_Paris   \n",
       "40022  If staying at a Disney hotel make good use of ...     Disneyland_Paris   \n",
       "\n",
       "       Review_Words  Review_Letters  Year  Month  Tourist  Branch_Encoded  \\\n",
       "0                59             329  2019      4        1               1   \n",
       "1               171             970  2019      5        1               1   \n",
       "2               169             938  2019      4        1               1   \n",
       "3                91             485  2019      4        1               1   \n",
       "4                31             163  2019      4        1               1   \n",
       "...             ...             ...   ...    ...      ...             ...   \n",
       "40018           316            1574  2011      1        1               2   \n",
       "40019           647            3593  2011      1        1               2   \n",
       "40020           440            2537  2010     12        1               2   \n",
       "40021           314            1758  2010     12        1               2   \n",
       "40022           104             512  2010      9        1               2   \n",
       "\n",
       "       Location_Encoded  \n",
       "0                     0  \n",
       "1                     8  \n",
       "2                     7  \n",
       "3                     0  \n",
       "4                    10  \n",
       "...                 ...  \n",
       "40018                10  \n",
       "40019                 7  \n",
       "40020                10  \n",
       "40021                10  \n",
       "40022                10  \n",
       "\n",
       "[40023 rows x 13 columns]"
      ]
     },
     "execution_count": 2,
     "metadata": {},
     "output_type": "execute_result"
    }
   ],
   "source": [
    "## Load the data\n",
    "file_path = Path(\"Resources/disney_clean.csv\")\n",
    "disney_clean_df = pd.read_csv(file_path)\n",
    "disney_clean_df"
   ]
  },
  {
   "cell_type": "code",
   "execution_count": 3,
   "id": "32a66bfa",
   "metadata": {},
   "outputs": [],
   "source": [
    "# Create our features\n",
    "X = disney_clean_df[[\"Rating\", \"Month\", \"Year\", \"Tourist\", \"Location_Encoded\"]]\n",
    "\n",
    "# Create our target\n",
    "y = disney_clean_df['Branch_Encoded']"
   ]
  },
  {
   "cell_type": "code",
   "execution_count": 4,
   "id": "a668ba6d",
   "metadata": {
    "scrolled": true
   },
   "outputs": [
    {
     "data": {
      "text/plain": [
       "0    18196\n",
       "2    12693\n",
       "1     9134\n",
       "Name: Branch_Encoded, dtype: int64"
      ]
     },
     "execution_count": 4,
     "metadata": {},
     "output_type": "execute_result"
    }
   ],
   "source": [
    "# Check counts, see if we need resampling\n",
    "y.value_counts()"
   ]
  },
  {
   "cell_type": "code",
   "execution_count": 5,
   "id": "0f1049ab",
   "metadata": {},
   "outputs": [],
   "source": [
    "# Split \n",
    "X_train, X_test, y_train, y_test = train_test_split(X, y, random_state=1)"
   ]
  },
  {
   "cell_type": "code",
   "execution_count": 6,
   "id": "e3e02b26",
   "metadata": {},
   "outputs": [],
   "source": [
    "# Train the EasyEnsembleClassifier\n",
    "brf_model = BalancedRandomForestClassifier(n_estimators=500, random_state=1)\n",
    "brf_model = brf_model.fit(X_train, y_train)"
   ]
  },
  {
   "cell_type": "code",
   "execution_count": 7,
   "id": "3751dc4b",
   "metadata": {},
   "outputs": [
    {
     "data": {
      "text/plain": [
       "0.7660844959103454"
      ]
     },
     "execution_count": 7,
     "metadata": {},
     "output_type": "execute_result"
    }
   ],
   "source": [
    "# Calculated the balanced accuracy score\n",
    "y_pred = brf_model.predict(X_test)\n",
    "balanced_accuracy_score(y_test, y_pred)"
   ]
  },
  {
   "cell_type": "code",
   "execution_count": 9,
   "id": "60a85398",
   "metadata": {},
   "outputs": [
    {
     "data": {
      "text/plain": [
       "[(0.517441470511195, 'Location_Encoded'),\n",
       " (0.2585139879508482, 'Tourist'),\n",
       " (0.10176790220431653, 'Month'),\n",
       " (0.07506723368097394, 'Year'),\n",
       " (0.047209405652666306, 'Rating')]"
      ]
     },
     "execution_count": 9,
     "metadata": {},
     "output_type": "execute_result"
    }
   ],
   "source": [
    "# List the features sorted in descending order by feature importance\n",
    "sorted(zip(brf_model.feature_importances_, X.columns), reverse=True)"
   ]
  },
  {
   "cell_type": "code",
   "execution_count": 10,
   "id": "3b8c30da",
   "metadata": {},
   "outputs": [
    {
     "data": {
      "text/plain": [
       "array([2], dtype=int64)"
      ]
     },
     "execution_count": 10,
     "metadata": {},
     "output_type": "execute_result"
    }
   ],
   "source": [
    "brf_model.predict([[5, 5, 2022, 1, 10]])"
   ]
  },
  {
   "cell_type": "code",
   "execution_count": 91,
   "id": "1e578570",
   "metadata": {},
   "outputs": [],
   "source": [
    "import pickle\n",
    "filename = 'disney_branch.pkl'\n",
    "pickle.dump(brf_model, open(filename, 'wb'))"
   ]
  },
  {
   "cell_type": "code",
   "execution_count": 11,
   "id": "b1e7ccfb",
   "metadata": {},
   "outputs": [
    {
     "data": {
      "text/plain": [
       "0    3879\n",
       "2    3421\n",
       "1    2706\n",
       "dtype: int64"
      ]
     },
     "execution_count": 11,
     "metadata": {},
     "output_type": "execute_result"
    }
   ],
   "source": [
    "pd.DataFrame(y_pred).value_counts()"
   ]
  },
  {
   "cell_type": "code",
   "execution_count": 12,
   "id": "0f2f9f92",
   "metadata": {},
   "outputs": [
    {
     "data": {
      "text/plain": [
       "[5, 1, 2012, 0, 11]"
      ]
     },
     "execution_count": 12,
     "metadata": {},
     "output_type": "execute_result"
    }
   ],
   "source": [
    "list(pd.DataFrame(X_test).iloc[0])"
   ]
  },
  {
   "cell_type": "code",
   "execution_count": 15,
   "id": "1d3269ae",
   "metadata": {},
   "outputs": [
    {
     "data": {
      "text/plain": [
       "array([0], dtype=int64)"
      ]
     },
     "execution_count": 15,
     "metadata": {},
     "output_type": "execute_result"
    }
   ],
   "source": [
    "brf_model.predict([[5, 1, 2022, 0, 11]])"
   ]
  },
  {
   "cell_type": "code",
   "execution_count": null,
   "id": "273f52af",
   "metadata": {},
   "outputs": [],
   "source": []
  }
 ],
 "metadata": {
  "kernelspec": {
   "display_name": "mlenv",
   "language": "python",
   "name": "mlenv"
  },
  "language_info": {
   "codemirror_mode": {
    "name": "ipython",
    "version": 3
   },
   "file_extension": ".py",
   "mimetype": "text/x-python",
   "name": "python",
   "nbconvert_exporter": "python",
   "pygments_lexer": "ipython3",
   "version": "3.7.10"
  }
 },
 "nbformat": 4,
 "nbformat_minor": 5
}
